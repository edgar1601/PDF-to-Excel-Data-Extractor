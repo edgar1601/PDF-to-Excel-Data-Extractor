{
 "cells": [
  {
   "cell_type": "code",
   "execution_count": 1,
   "id": "a0ad4f73",
   "metadata": {},
   "outputs": [
    {
     "name": "stdout",
     "output_type": "stream",
     "text": [
      "18/04/2023 5689 MB 9BM9xxxxxx261167 539992 não converte sinal, nao encontra sinal\n"
     ]
    }
   ],
   "source": [
    "import requests as rq\n",
    "import pdfplumber as pp\n",
    "import os\n",
    "\n",
    "with pp.open('chamado.pdf') as pdf: #abrindo pdf.\n",
    "    page=pdf.pages[0] #pegando a pagina 1.\n",
    "    text=page.extract_text() #extraindo texto da pag 1.\n",
    "print(text) #MOSTRA O TEXTO\n",
    "\n",
    "linhas=text.split('\\n') #criando uma lista com as linhas .\n",
    "#print(len(linhas)) \n",
    "#atribuindo o texto das linhas pra cada campo que sera colado no excel.\n",
    "data=linhas[3]\n",
    "data=data.split()[-3]\n",
    "num=linhas[1]\n",
    "cliente=linhas[6]\n",
    "chassi=linhas[13]\n",
    "frota=linhas[15]\n",
    "problema=linhas[19]\n",
    "print(data,num,cliente,chassi,frota,problema)"
   ]
  },
  {
   "cell_type": "code",
   "execution_count": 2,
   "id": "38537e38",
   "metadata": {
    "scrolled": true
   },
   "outputs": [
    {
     "name": "stdout",
     "output_type": "stream",
     "text": [
      "1\n"
     ]
    }
   ],
   "source": [
    "# colocando no excel\n",
    "import openpyxl as op\n",
    "#abrindo o arquivo\n",
    "arquivo=op.load_workbook(r'C:\\SCRIPTS\\PDF-to-Excel-Data-Extractor\\PROGRAMACAO TECNICOS.XLSX')\n",
    "aba=arquivo['OS'] #selecionando a aba\n",
    "ultima_celula=aba.max_row #vê o numero da ultima linha da aba selecionada.\n",
    "print(ultima_celula) #exibe o numero da ultima linha.\n",
    "\n"
   ]
  },
  {
   "cell_type": "code",
   "execution_count": 3,
   "id": "a6555495",
   "metadata": {},
   "outputs": [],
   "source": [
    "aba.cell(column=1,row=ultima_celula+1).value=data\n",
    "aba.cell(column=2,row=ultima_celula+1).value=num\n",
    "#aba.cell(column=4,row=ultima_celula+1).value='=HYPERLINK(\"{}\", \"{}\")'.format(\"C:\\\\Users\\\\User\\\\Scripts python\\\\pdf scraper\\\\ugo.pdf\", \"OS\") #colocando hiperlink\n",
    "aba.cell(column=5,row=ultima_celula+1).value=cliente\n",
    "aba.cell(column=6,row=ultima_celula+1).value=frota\n",
    "aba.cell(column=7,row=ultima_celula+1).value=chassi\n",
    "aba.cell(column=11,row=ultima_celula+1).value=problema\n",
    "#salvar\n",
    "arquivo.save(r'C:\\SCRIPTS\\PDF-to-Excel-Data-Extractor\\PROGRAMACAO TECNICOS.XLSX')\n"
   ]
  }
 ],
 "metadata": {
  "kernelspec": {
   "display_name": "Python 3 (ipykernel)",
   "language": "python",
   "name": "python3"
  },
  "language_info": {
   "codemirror_mode": {
    "name": "ipython",
    "version": 3
   },
   "file_extension": ".py",
   "mimetype": "text/x-python",
   "name": "python",
   "nbconvert_exporter": "python",
   "pygments_lexer": "ipython3",
   "version": "3.9.13"
  }
 },
 "nbformat": 4,
 "nbformat_minor": 5
}
